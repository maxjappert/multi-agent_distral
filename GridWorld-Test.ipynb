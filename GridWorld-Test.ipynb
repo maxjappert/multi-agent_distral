{
 "cells": [
  {
   "cell_type": "markdown",
   "metadata": {},
   "source": [
    "### import gym \n",
    "gym.version.VERSION"
   ]
  },
  {
   "cell_type": "code",
   "execution_count": 1,
   "metadata": {},
   "outputs": [],
   "source": [
    "import matplotlib.pyplot as plt\n",
    "import numpy as np\n",
    "%matplotlib inline\n",
    "from gridworld_env import GridworldEnv"
   ]
  },
  {
   "cell_type": "code",
   "execution_count": 2,
   "metadata": {},
   "outputs": [
    {
     "name": "stderr",
     "output_type": "stream",
     "text": [
      "/Users/maxja/miniconda3/envs/distral/lib/python3.9/site-packages/gym/spaces/box.py:127: UserWarning: \u001b[33mWARN: Box bound precision lowered by casting to float32\u001b[0m\n",
      "  logger.warn(f\"Box bound precision lowered by casting to {self.dtype}\")\n"
     ]
    }
   ],
   "source": [
    "env = GridworldEnv('') # Number of plan "
   ]
  },
  {
   "cell_type": "code",
   "execution_count": 3,
   "metadata": {},
   "outputs": [
    {
     "data": {
      "image/png": "[encoded data removed]",
      "text/plain": [
       "<Figure size 640x480 with 1 Axes>"
      ]
     },
     "metadata": {},
     "output_type": "display_data"
    }
   ],
   "source": [
    "env.render()"
   ]
  },
  {
   "cell_type": "code",
   "execution_count": 4,
   "metadata": {},
   "outputs": [
    {
     "data": {
      "text/plain": [
       "Box(-1.0, 1.0, (3,), float32)"
      ]
     },
     "execution_count": 4,
     "metadata": {},
     "output_type": "execute_result"
    }
   ],
   "source": [
    "env.observation_space"
   ]
  },
  {
   "cell_type": "code",
   "execution_count": 5,
   "metadata": {},
   "outputs": [
    {
     "name": "stdout",
     "output_type": "stream",
     "text": [
      "[-0.7777777777777778, -0.5, 0.0, 0.4222222222222223, -0.5, 0.0]\n",
      "3\n"
     ]
    },
    {
     "data": {
      "text/plain": [
       "(array([-0.77777778,  0.        ,  0.        ,  0.42222222, -0.5       ,\n",
       "        -0.1       ]),\n",
       " -0.1,\n",
       " False,\n",
       " {'success': True})"
      ]
     },
     "execution_count": 5,
     "metadata": {},
     "output_type": "execute_result"
    }
   ],
   "source": [
    "print(env.reset())\n",
    "print(env.action_space.sample())\n",
    "env.step(env.action_space.sample(), agent_idx=0)\n",
    "env.step(env.action_space.sample(), agent_idx=1)"
   ]
  },
  {
   "cell_type": "code",
   "execution_count": 6,
   "metadata": {},
   "outputs": [
    {
     "name": "stdout",
     "output_type": "stream",
     "text": [
      "((1, 1), (1, 8), (7, 1), (7, 8))\n"
     ]
    }
   ],
   "source": [
    "env.verbose = True\n",
    "print( env._get_agents_start_target_state())"
   ]
  },
  {
   "cell_type": "code",
   "execution_count": 7,
   "metadata": {},
   "outputs": [
    {
     "data": {
      "text/plain": [
       "(9, 10)"
      ]
     },
     "execution_count": 7,
     "metadata": {},
     "output_type": "execute_result"
    }
   ],
   "source": [
    "env.grid_map_shape"
   ]
  },
  {
   "cell_type": "code",
   "execution_count": 8,
   "metadata": {},
   "outputs": [
    {
     "data": {
      "text/plain": [
       "Box(-1.0, 1.0, (3,), float32)"
      ]
     },
     "execution_count": 8,
     "metadata": {},
     "output_type": "execute_result"
    }
   ],
   "source": [
    "env.observation_space"
   ]
  },
  {
   "cell_type": "code",
   "execution_count": 9,
   "metadata": {},
   "outputs": [
    {
     "data": {
      "text/plain": [
       "Discrete(5)"
      ]
     },
     "execution_count": 9,
     "metadata": {},
     "output_type": "execute_result"
    }
   ],
   "source": [
    "env.action_space"
   ]
  },
  {
   "cell_type": "code",
   "execution_count": 10,
   "metadata": {},
   "outputs": [
    {
     "name": "stdout",
     "output_type": "stream",
     "text": [
      "State \t\t\t\t - Reward\n",
      "[-0.77777778 -0.1        -0.6         0.42222222  0.          0.        ] \t\t\t -0.6\n",
      "[-0.77777778  0.          0.          0.42222222 -0.5        -0.1       ] \t\t\t -0.1\n",
      "[-0.57777778 -0.3        -0.1         0.42222222  0.          0.        ] \t\t\t -0.1\n",
      "[-0.77777778  0.          0.          0.42222222 -0.5        -0.1       ] \t\t\t -0.1\n",
      "[-0.57777778 -0.5        -0.1         0.42222222  0.          0.        ] \t\t\t -0.1\n",
      "[-0.77777778  0.          0.          0.42222222 -0.3        -0.6       ] \t\t\t -0.6\n",
      "[-0.77777778 -0.1        -0.1         0.42222222  0.          0.        ] \t\t\t -0.1\n",
      "[-0.77777778  0.          0.          0.42222222 -0.3        -0.6       ] \t\t\t -0.6\n",
      "[-0.77777778 -0.1        -0.6         0.42222222  0.          0.        ] \t\t\t -0.6\n",
      "[-0.77777778  0.          0.          0.44444444  0.3        -0.1       ] \t\t\t -0.1\n",
      "Total episode reward:  -3.0\n"
     ]
    },
    {
     "data": {
      "image/png": "[encoded data removed]",
      "text/plain": [
       "<Figure size 640x480 with 1 Axes>"
      ]
     },
     "metadata": {},
     "output_type": "display_data"
    },
    {
     "data": {
      "image/png": "[encoded data removed]",
      "text/plain": [
       "<Figure size 640x480 with 1 Axes>"
      ]
     },
     "metadata": {},
     "output_type": "display_data"
    }
   ],
   "source": [
    "# Try random policy, seems to work\n",
    "env.reset()\n",
    "env.render()\n",
    "print('State \\t\\t\\t\\t - Reward')\n",
    "for i in range(5):\n",
    "    for agent_idx in range(2):\n",
    "        move = env.action_space.sample()\n",
    "        obs , reward, _, _ =  env.step(move, agent_idx) \n",
    "        print(obs,'\\t\\t\\t',reward)\n",
    "        \n",
    "env.render()\n",
    "    \n",
    "print('Total episode reward: ', env.episode_total_reward)"
   ]
  },
  {
   "cell_type": "markdown",
   "metadata": {},
   "source": [
    "## Q-learning Example"
   ]
  },
  {
   "cell_type": "code",
   "execution_count": 11,
   "metadata": {},
   "outputs": [
    {
     "ename": "FileNotFoundError",
     "evalue": "[Errno 2] No such file or directory: '/Users/maxja/IdeaProjects/multi-agent_distral/plan9.txt'",
     "output_type": "error",
     "traceback": [
      "\u001b[0;31m---------------------------------------------------------------------------\u001b[0m",
      "\u001b[0;31mFileNotFoundError\u001b[0m                         Traceback (most recent call last)",
      "Cell \u001b[0;32mIn[11], line 54\u001b[0m\n\u001b[1;32m     51\u001b[0m                 state \u001b[38;5;241m=\u001b[39m next_state\n\u001b[1;32m     52\u001b[0m         \u001b[38;5;28;01mreturn\u001b[39;00m \u001b[38;5;241m0.0\u001b[39m \u001b[38;5;66;03m# over limit\u001b[39;00m\n\u001b[0;32m---> 54\u001b[0m env \u001b[38;5;241m=\u001b[39m \u001b[43mGridworldEnv\u001b[49m\u001b[43m(\u001b[49m\u001b[38;5;241;43m9\u001b[39;49m\u001b[43m)\u001b[49m\n\u001b[1;32m     55\u001b[0m env\u001b[38;5;241m.\u001b[39mreset()\n\u001b[1;32m     56\u001b[0m agent1 \u001b[38;5;241m=\u001b[39m Agent(env, \u001b[38;5;241m0\u001b[39m)\n",
      "File \u001b[0;32m~/IdeaProjects/multi-agent_distral/gridworld_env.py:47\u001b[0m, in \u001b[0;36mGridworldEnv.__init__\u001b[0;34m(self, plan)\u001b[0m\n\u001b[1;32m     45\u001b[0m this_file_path \u001b[38;5;241m=\u001b[39m os\u001b[38;5;241m.\u001b[39mpath\u001b[38;5;241m.\u001b[39mdirname(os\u001b[38;5;241m.\u001b[39mpath\u001b[38;5;241m.\u001b[39mrealpath(\u001b[38;5;18m__file__\u001b[39m))\n\u001b[1;32m     46\u001b[0m \u001b[38;5;28mself\u001b[39m\u001b[38;5;241m.\u001b[39mgrid_map_path \u001b[38;5;241m=\u001b[39m os\u001b[38;5;241m.\u001b[39mpath\u001b[38;5;241m.\u001b[39mjoin(this_file_path, \u001b[38;5;124m'\u001b[39m\u001b[38;5;124mplan\u001b[39m\u001b[38;5;132;01m{}\u001b[39;00m\u001b[38;5;124m.txt\u001b[39m\u001b[38;5;124m'\u001b[39m\u001b[38;5;241m.\u001b[39mformat(plan))\n\u001b[0;32m---> 47\u001b[0m \u001b[38;5;28mself\u001b[39m\u001b[38;5;241m.\u001b[39mstart_grid_map \u001b[38;5;241m=\u001b[39m \u001b[38;5;28;43mself\u001b[39;49m\u001b[38;5;241;43m.\u001b[39;49m\u001b[43m_read_grid_map\u001b[49m\u001b[43m(\u001b[49m\u001b[38;5;28;43mself\u001b[39;49m\u001b[38;5;241;43m.\u001b[39;49m\u001b[43mgrid_map_path\u001b[49m\u001b[43m)\u001b[49m  \u001b[38;5;66;03m# initial grid map\u001b[39;00m\n\u001b[1;32m     48\u001b[0m \u001b[38;5;28mself\u001b[39m\u001b[38;5;241m.\u001b[39mcurrent_grid_map \u001b[38;5;241m=\u001b[39m copy\u001b[38;5;241m.\u001b[39mdeepcopy(\u001b[38;5;28mself\u001b[39m\u001b[38;5;241m.\u001b[39mstart_grid_map)  \u001b[38;5;66;03m# current grid map\u001b[39;00m\n\u001b[1;32m     49\u001b[0m \u001b[38;5;28mself\u001b[39m\u001b[38;5;241m.\u001b[39mgrid_map_shape \u001b[38;5;241m=\u001b[39m \u001b[38;5;28mself\u001b[39m\u001b[38;5;241m.\u001b[39mstart_grid_map\u001b[38;5;241m.\u001b[39mshape\n",
      "File \u001b[0;32m~/IdeaProjects/multi-agent_distral/gridworld_env.py:186\u001b[0m, in \u001b[0;36mGridworldEnv._read_grid_map\u001b[0;34m(self, grid_map_path)\u001b[0m\n\u001b[1;32m    182\u001b[0m \u001b[38;5;28;01mdef\u001b[39;00m \u001b[38;5;21m_read_grid_map\u001b[39m(\u001b[38;5;28mself\u001b[39m, grid_map_path):\n\u001b[1;32m    183\u001b[0m \n\u001b[1;32m    184\u001b[0m     \u001b[38;5;66;03m# Return the gridmap imported from a txt plan\u001b[39;00m\n\u001b[0;32m--> 186\u001b[0m     grid_map \u001b[38;5;241m=\u001b[39m \u001b[38;5;28;43mopen\u001b[39;49m\u001b[43m(\u001b[49m\u001b[43mgrid_map_path\u001b[49m\u001b[43m,\u001b[49m\u001b[43m \u001b[49m\u001b[38;5;124;43m'\u001b[39;49m\u001b[38;5;124;43mr\u001b[39;49m\u001b[38;5;124;43m'\u001b[39;49m\u001b[43m)\u001b[49m\u001b[38;5;241m.\u001b[39mreadlines()\n\u001b[1;32m    187\u001b[0m     grid_map_array \u001b[38;5;241m=\u001b[39m []\n\u001b[1;32m    188\u001b[0m     \u001b[38;5;28;01mfor\u001b[39;00m k1 \u001b[38;5;129;01min\u001b[39;00m grid_map:\n",
      "\u001b[0;31mFileNotFoundError\u001b[0m: [Errno 2] No such file or directory: '/Users/maxja/IdeaProjects/multi-agent_distral/plan9.txt'"
     ]
    }
   ],
   "source": [
    "# Q learning params\n",
    "ALPHA = 0.1 # learning rate\n",
    "GAMMA = 0.95 # reward discount\n",
    "LEARNING_COUNT = 1000\n",
    "TEST_COUNT = 100\n",
    "\n",
    "TURN_LIMIT = 1000\n",
    "IS_MONITOR = True\n",
    "\n",
    "class Agent:\n",
    "    def __init__(self, env, idx):\n",
    "        self.env = env\n",
    "        self.episode_reward = 0.0\n",
    "        self.q_val = np.zeros(64 * 5).reshape(64, 5).astype(np.float32)\n",
    "        self.idx = idx\n",
    "\n",
    "    def learn(self):\n",
    "        # one episode learning\n",
    "        state = self.env.reset()\n",
    "        #self.env.render()\n",
    "        \n",
    "        for t in range(TURN_LIMIT):\n",
    "            act = self.env.action_space.sample() # random\n",
    "            next_state, reward, done, info = self.env.step(act, self.idx)\n",
    "            assert len(next_state) == 6\n",
    "            coords = state[self.idx * 3]\n",
    "            q_next_max = np.max(self.q_val[int(64.*(coords+1.)/2.)])\n",
    "            # Q <- Q + a(Q' - Q)\n",
    "            # <=> Q <- (1-a)Q + a(Q')\n",
    "            self.q_val[int(64.*(coords+1.)/2.)][act] = (1 - ALPHA) * self.q_val[int(64.*(coords+1.)/2.)][act]\\\n",
    "                                 + ALPHA * (reward + GAMMA * q_next_max)\n",
    "            \n",
    "            self.episode_reward += reward\n",
    "            #self.env.render()\n",
    "            if done:\n",
    "                return self.env.episode_total_reward\n",
    "            else:\n",
    "                state = next_state\n",
    "                \n",
    "        return 0.0 # over limit\n",
    "\n",
    "    def test(self):\n",
    "        state = self.env.reset()\n",
    "        for t in range(TURN_LIMIT):\n",
    "            norm_coords = state[self.idx * 3]\n",
    "            act = np.argmax(self.q_val[int(64.*(norm_coords+1.)/2.)])\n",
    "            next_state, reward, done, info = self.env.step(act, self.idx)\n",
    "            if done:\n",
    "                return self.env.episode_total_reward\n",
    "            else:\n",
    "                state = next_state\n",
    "        return 0.0 # over limit\n",
    "\n",
    "env = GridworldEnv('')\n",
    "env.reset()\n",
    "agent1 = Agent(env, 0)\n",
    "agent2 = Agent(env, 1)\n",
    "\n",
    "print(\"###### LEARNING #####\")\n",
    "reward_total_1 = 0.0\n",
    "reward_total_2 = 0.0\n",
    "for i in range(LEARNING_COUNT):\n",
    "    reward_total_1 += agent1.learn()\n",
    "    reward_total_2 += agent2.learn()\n",
    "print(\"episodes      : {}\".format(LEARNING_COUNT))\n",
    "print(\"agent 1 total reward  : {}\".format(reward_total_1))\n",
    "print(\"agent 1 average reward: {:.2f}\".format(reward_total_1 / LEARNING_COUNT))\n",
    "print(\"agent 1 Q Value       :{}\".format(agent1.q_val))\n",
    "print(\"agent 2 total reward  : {}\".format(reward_total_2))\n",
    "print(\"agent 2 average reward: {:.2f}\".format(reward_total_2 / LEARNING_COUNT))\n",
    "print(\"agent 2 Q Value       :{}\".format(agent2.q_val))\n",
    "\n",
    "print(\"###### TEST #####\")\n",
    "reward_total_1 = 0.0\n",
    "reward_total_2 = 0.0\n",
    "for i in range(TEST_COUNT):\n",
    "    reward_total_1 += agent1.test()\n",
    "    reward_total_2 += agent2.test()\n",
    "print(\"episodes      : {}\".format(TEST_COUNT))\n",
    "print(\"agent 1 total reward  : {}\".format(reward_total_1))\n",
    "print(\"agent 1 average reward: {:.2f}\".format(reward_total_1 / TEST_COUNT))\n",
    "print(\"agent 2 total reward  : {}\".format(reward_total_2))\n",
    "print(\"agent 2 average reward: {:.2f}\".format(reward_total_2 / TEST_COUNT))\n",
    "\n"
   ]
  },
  {
   "cell_type": "code",
   "execution_count": null,
   "metadata": {},
   "outputs": [],
   "source": [
    "Q_a1 = agent1.q_val \n",
    "policy_function1 = np.argmax( Q_a1 , axis = 1).reshape(8,8)\n",
    "\n",
    "Q_a2 = agent2.q_val \n",
    "policy_function2 = np.argmax( Q_a2 , axis = 1).reshape(8,8)"
   ]
  },
  {
   "cell_type": "code",
   "execution_count": null,
   "metadata": {},
   "outputs": [],
   "source": [
    "def plot_policy( policy_function ):\n",
    "\n",
    "    plt.figure()\n",
    "    plt.imshow( policy_function , interpolation='none' )\n",
    "    plt.colorbar()\n",
    "\n",
    "    for row in range( policy_function.shape[0] ):\n",
    "        for col in range( policy_function.shape[1] ):\n",
    "            if policy_function[row][col] == 0:\n",
    "                continue \n",
    "            if policy_function[row][col] == 1:\n",
    "                dx = 0; dy = .5\n",
    "            if policy_function[row][col] == 2:\n",
    "                dx = 0; dy = -.5\n",
    "            if policy_function[row][col] == 3:\n",
    "                dx = -.5; dy = 0\n",
    "            if policy_function[row][col] == 4:\n",
    "                dx = .5; dy = 0\n",
    "            plt.arrow( col , row , dx , dy , shape='full', fc='w' , ec='w' , lw=3, length_includes_head=True, head_width=.2 )\n",
    "    plt.title( 'Policy' )        \n",
    "    plt.show() \n",
    "plot_policy(policy_function1)\n",
    "plot_policy(policy_function2)"
   ]
  },
  {
   "cell_type": "code",
   "execution_count": null,
   "metadata": {},
   "outputs": [],
   "source": [
    "env.reset()\n",
    "env.render()"
   ]
  },
  {
   "cell_type": "code",
   "execution_count": null,
   "metadata": {
    "collapsed": true,
    "jupyter": {
     "outputs_hidden": true
    }
   },
   "outputs": [],
   "source": []
  }
 ],
 "metadata": {
  "kernelspec": {
   "display_name": "Python 3 (ipykernel)",
   "language": "python",
   "name": "python3"
  },
  "language_info": {
   "codemirror_mode": {
    "name": "ipython",
    "version": 3
   },
   "file_extension": ".py",
   "mimetype": "text/x-python",
   "name": "python",
   "nbconvert_exporter": "python",
   "pygments_lexer": "ipython3",
   "version": "3.9.18"
  }
 },
 "nbformat": 4,
 "nbformat_minor": 4
}
