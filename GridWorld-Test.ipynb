{
 "cells": [
  {
   "cell_type": "markdown",
   "metadata": {},
   "source": [
    "### import gym \n",
    "gym.version.VERSION"
   ]
  },
  {
   "cell_type": "code",
   "execution_count": 1,
   "metadata": {},
   "outputs": [],
   "source": [
    "import matplotlib.pyplot as plt\n",
    "import numpy as np\n",
    "%matplotlib inline\n",
    "from gridworld_env import GridworldEnv"
   ]
  },
  {
   "cell_type": "code",
   "execution_count": 2,
   "metadata": {},
   "outputs": [
    {
     "name": "stdout",
     "output_type": "stream",
     "text": [
      "['1 1 1 1 1 1 1 1 1 1\\n', '1 4 0 1 1 1 1 0 2 1\\n', '1 0 0 1 1 1 1 0 0 1\\n', '1 0 0 1 1 1 1 0 0 1\\n', '1 0 0 0 0 0 0 0 0 1\\n', '1 0 0 1 1 1 1 0 0 1\\n', '1 0 0 1 1 1 1 0 0 1\\n', '1 5 0 1 1 1 1 0 3 1\\n', '1 1 1 1 1 1 1 1 1 1\\n']\n"
     ]
    },
    {
     "name": "stderr",
     "output_type": "stream",
     "text": [
      "/Users/maxja/miniconda3/envs/distral/lib/python3.9/site-packages/gym/spaces/box.py:127: UserWarning: \u001b[33mWARN: Box bound precision lowered by casting to float32\u001b[0m\n",
      "  logger.warn(f\"Box bound precision lowered by casting to {self.dtype}\")\n"
     ]
    }
   ],
   "source": [
    "env = GridworldEnv('') # Number of plan "
   ]
  },
  {
   "cell_type": "code",
   "execution_count": 3,
   "metadata": {},
   "outputs": [
    {
     "data": {
      "image/png": "[encoded data removed]",
      "text/plain": [
       "<Figure size 640x480 with 1 Axes>"
      ]
     },
     "metadata": {},
     "output_type": "display_data"
    }
   ],
   "source": [
    "env.render()"
   ]
  },
  {
   "cell_type": "code",
   "execution_count": 4,
   "metadata": {},
   "outputs": [
    {
     "data": {
      "text/plain": [
       "Box(-1.0, 1.0, (3,), float32)"
      ]
     },
     "execution_count": 4,
     "metadata": {},
     "output_type": "execute_result"
    }
   ],
   "source": [
    "env.observation_space"
   ]
  },
  {
   "cell_type": "code",
   "execution_count": 5,
   "metadata": {},
   "outputs": [
    {
     "name": "stdout",
     "output_type": "stream",
     "text": [
      "[-0.7777777777777778, -0.5, 0.0, 0.4222222222222223, -0.5, 0.0]\n",
      "1\n"
     ]
    },
    {
     "data": {
      "text/plain": [
       "(array([-0.77777778,  0.        ,  0.        ,  0.42222222,  0.1       ,\n",
       "        -0.6       ]),\n",
       " -0.6,\n",
       " False,\n",
       " {'success': False})"
      ]
     },
     "execution_count": 5,
     "metadata": {},
     "output_type": "execute_result"
    }
   ],
   "source": [
    "print(env.reset())\n",
    "print(env.action_space.sample())\n",
    "env.step(env.action_space.sample(), agent_idx=0)\n",
    "env.step(env.action_space.sample(), agent_idx=1)"
   ]
  },
  {
   "cell_type": "code",
   "execution_count": 6,
   "metadata": {},
   "outputs": [
    {
     "name": "stdout",
     "output_type": "stream",
     "text": [
      "((1, 1), (1, 8), (7, 1), (7, 8))\n"
     ]
    }
   ],
   "source": [
    "env.verbose = True\n",
    "print( env._get_agents_start_target_state())"
   ]
  },
  {
   "cell_type": "code",
   "execution_count": 7,
   "metadata": {},
   "outputs": [
    {
     "data": {
      "text/plain": [
       "(9, 10)"
      ]
     },
     "execution_count": 7,
     "metadata": {},
     "output_type": "execute_result"
    }
   ],
   "source": [
    "env.grid_map_shape"
   ]
  },
  {
   "cell_type": "code",
   "execution_count": 8,
   "metadata": {},
   "outputs": [
    {
     "data": {
      "text/plain": [
       "Box(-1.0, 1.0, (3,), float32)"
      ]
     },
     "execution_count": 8,
     "metadata": {},
     "output_type": "execute_result"
    }
   ],
   "source": [
    "env.observation_space"
   ]
  },
  {
   "cell_type": "code",
   "execution_count": 9,
   "metadata": {},
   "outputs": [
    {
     "data": {
      "text/plain": [
       "Discrete(5)"
      ]
     },
     "execution_count": 9,
     "metadata": {},
     "output_type": "execute_result"
    }
   ],
   "source": [
    "env.action_space"
   ]
  },
  {
   "cell_type": "code",
   "execution_count": 10,
   "metadata": {},
   "outputs": [
    {
     "name": "stdout",
     "output_type": "stream",
     "text": [
      "State \t\t\t\t - Reward\n",
      "[-0.75555556  0.3        -0.1         0.42222222  0.          0.        ] \t\t\t -0.1\n",
      "[-0.77777778  0.          0.          0.42222222  0.1        -0.6       ] \t\t\t -0.6\n",
      "[-0.55555556 -0.3        -0.1         0.42222222  0.          0.        ] \t\t\t -0.1\n",
      "[-0.77777778  0.          0.          0.42222222 -0.5        -0.1       ] \t\t\t -0.1\n",
      "[-0.57777778  0.1        -0.1         0.42222222  0.          0.        ] \t\t\t -0.1\n",
      "[-0.77777778  0.          0.          0.42222222 -0.3        -0.6       ] \t\t\t -0.6\n",
      "[-0.55555556  0.3        -0.1         0.42222222  0.          0.        ] \t\t\t -0.1\n",
      "[-0.77777778  0.          0.          0.42222222 -0.5        -0.1       ] \t\t\t -0.1\n",
      "[-0.75555556 -0.1        -0.1         0.42222222  0.          0.        ] \t\t\t -0.1\n",
      "[-0.77777778  0.          0.          0.42222222 -0.5        -0.1       ] \t\t\t -0.1\n",
      "Total episode reward:  -2.0\n"
     ]
    },
    {
     "data": {
      "image/png": "[encoded data removed]",
      "text/plain": [
       "<Figure size 640x480 with 1 Axes>"
      ]
     },
     "metadata": {},
     "output_type": "display_data"
    },
    {
     "data": {
      "image/png": "[encoded data removed]",
      "text/plain": [
       "<Figure size 640x480 with 1 Axes>"
      ]
     },
     "metadata": {},
     "output_type": "display_data"
    }
   ],
   "source": [
    "# Try random policy, seems to work\n",
    "env.reset()\n",
    "env.render()\n",
    "print('State \\t\\t\\t\\t - Reward')\n",
    "for i in range(5):\n",
    "    for agent_idx in range(2):\n",
    "        move = env.action_space.sample()\n",
    "        obs , reward, _, _ =  env.step(move, agent_idx) \n",
    "        print(obs,'\\t\\t\\t',reward)\n",
    "        \n",
    "env.render()\n",
    "    \n",
    "print('Total episode reward: ', env.episode_total_reward)"
   ]
  },
  {
   "cell_type": "markdown",
   "metadata": {},
   "source": [
    "## Q-learning Example"
   ]
  },
  {
   "cell_type": "code",
   "execution_count": 11,
   "metadata": {},
   "outputs": [
    {
     "name": "stdout",
     "output_type": "stream",
     "text": [
      "['1 1 1 1 1 1 1 1 1 1\\n', '1 4 0 1 1 1 1 0 2 1\\n', '1 0 0 1 1 1 1 0 0 1\\n', '1 0 0 1 1 1 1 0 0 1\\n', '1 0 0 0 0 0 0 0 0 1\\n', '1 0 0 1 1 1 1 0 0 1\\n', '1 0 0 1 1 1 1 0 0 1\\n', '1 5 0 1 1 1 1 0 3 1\\n', '1 1 1 1 1 1 1 1 1 1\\n']\n",
      "###### LEARNING #####\n",
      "episodes      : 1000\n",
      "agent 1 total reward  : -74735.49999999939\n",
      "agent 1 average reward: -74.74\n",
      "agent 1 Q Value       :[[ 0.         0.         0.         0.         0.       ]\n",
      " [ 0.         0.         0.         0.         0.       ]\n",
      " [ 0.         0.         0.         0.         0.       ]\n",
      " [ 0.         0.         0.         0.         0.       ]\n",
      " [ 0.         0.         0.         0.         0.       ]\n",
      " [ 0.         0.         0.         0.         0.       ]\n",
      " [ 0.         0.         0.         0.         0.       ]\n",
      " [-1.9999881 -1.9999881 -2.4999876 -2.2442615 -2.2314317]\n",
      " [ 0.         0.         0.         0.         0.       ]\n",
      " [ 0.         0.         0.         0.         0.       ]\n",
      " [ 0.         0.         0.         0.         0.       ]\n",
      " [12.967092  13.099416  12.531706  12.626652  14.097776 ]\n",
      " [ 0.         0.         0.         0.         0.       ]\n",
      " [-1.9999881 -1.9999881 -1.9999881 -2.4999876 -1.9999881]\n",
      " [-1.9999881 -1.9999881 -1.9999881 -1.9999881 -2.4999876]\n",
      " [ 0.         0.         0.         0.         0.       ]\n",
      " [ 0.         0.         0.         0.         0.       ]\n",
      " [-1.8316157 -1.8323252 -1.8330625 -2.3289776 -1.8359411]\n",
      " [15.623739  15.601631  16.589426  15.611639  15.116504 ]\n",
      " [-1.9999881 -1.9999881 -1.9999881 -2.4999876 -1.9999881]\n",
      " [-1.9999881 -1.9999881 -1.9999881 -1.9999881 -2.4999876]\n",
      " [ 0.         0.         0.         0.         0.       ]\n",
      " [ 0.         0.         0.         0.         0.       ]\n",
      " [ 0.         0.         0.         0.         0.       ]\n",
      " [-1.9996072 -1.9996021 -1.9996036 -2.1534264 -2.227913 ]\n",
      " [ 0.         0.         0.         0.         0.       ]\n",
      " [-1.9999881 -1.9999881 -1.9999881 -2.4999876 -1.9999881]\n",
      " [-1.9999881 -2.2623374 -2.1606658 -1.9999881 -1.9999881]\n",
      " [-1.9999881 -2.4999876 -2.4999876 -1.9999881 -1.9999881]\n",
      " [-1.9999881 -2.4999876 -2.4999876 -1.9999881 -1.9999881]\n",
      " [-1.9945848 -1.9945753 -1.9945548 -1.9945519 -1.9945265]\n",
      " [-1.9881151 -1.9879961 -1.9878706 -1.9880109 -2.4880898]\n",
      " [-1.9999881 -1.9999881 -1.9999881 -2.4999876 -1.9999881]\n",
      " [-1.9999881 -1.9999881 -1.9999881 -1.9999881 -2.4999876]\n",
      " [ 0.         0.         0.         0.         0.       ]\n",
      " [ 0.         0.         0.         0.         0.       ]\n",
      " [-1.9940604 -1.9940807 -1.9940296 -2.4940028 -1.9941074]\n",
      " [-1.9901818 -1.990274  -1.9901717 -1.9900339 -2.4901805]\n",
      " [ 0.         0.         0.         0.         0.       ]\n",
      " [-1.9999881 -1.9999881 -1.9999881 -2.1932287 -2.2510095]\n",
      " [ 0.         0.         0.         0.         0.       ]\n",
      " [ 0.         0.         0.         0.         0.       ]\n",
      " [ 0.         0.         0.         0.         0.       ]\n",
      " [-1.993057  -1.9929909 -1.9931093 -2.4931033 -1.9930812]\n",
      " [-1.9932102 -1.9931425 -1.9933156 -1.9932164 -2.4931915]\n",
      " [ 0.         0.         0.         0.         0.       ]\n",
      " [-1.9999881 -2.4999876 -1.9999881 -1.9999881 -2.4999876]\n",
      " [ 0.         0.         0.         0.         0.       ]\n",
      " [ 0.         0.         0.         0.         0.       ]\n",
      " [-1.9954296 -2.4953704 -1.9954866 -2.4954453 -1.9953737]\n",
      " [-1.9953918 -2.4953346 -1.9953943 -1.9953291 -2.4953616]\n",
      " [ 0.         0.         0.         0.         0.       ]\n",
      " [ 0.         0.         0.         0.         0.       ]\n",
      " [ 0.         0.         0.         0.         0.       ]\n",
      " [ 0.         0.         0.         0.         0.       ]\n",
      " [ 0.         0.         0.         0.         0.       ]\n",
      " [ 0.         0.         0.         0.         0.       ]\n",
      " [ 0.         0.         0.         0.         0.       ]\n",
      " [ 0.         0.         0.         0.         0.       ]\n",
      " [ 0.         0.         0.         0.         0.       ]\n",
      " [ 0.         0.         0.         0.         0.       ]\n",
      " [ 0.         0.         0.         0.         0.       ]\n",
      " [ 0.         0.         0.         0.         0.       ]\n",
      " [ 0.         0.         0.         0.         0.       ]]\n",
      "agent 2 total reward  : -77202.69999999936\n",
      "agent 2 average reward: -77.20\n",
      "agent 2 Q Value       :[[ 0.         0.         0.         0.         0.       ]\n",
      " [ 0.         0.         0.         0.         0.       ]\n",
      " [ 0.         0.         0.         0.         0.       ]\n",
      " [ 0.         0.         0.         0.         0.       ]\n",
      " [ 0.         0.         0.         0.         0.       ]\n",
      " [ 0.         0.         0.         0.         0.       ]\n",
      " [ 0.         0.         0.         0.         0.       ]\n",
      " [-1.9999881 -1.9999881 -2.4999876 -1.9999881 -2.4999876]\n",
      " [ 0.         0.         0.         0.         0.       ]\n",
      " [ 0.         0.         0.         0.         0.       ]\n",
      " [ 0.         0.         0.         0.         0.       ]\n",
      " [-1.9959261 -1.9959619 -2.4959443 -2.495903  -1.9959613]\n",
      " [-1.9967372 -1.9967545 -2.496685  -1.9967264 -2.4967093]\n",
      " [-1.9999881 -1.9999881 -1.9999881 -2.4999876 -1.9999881]\n",
      " [-1.9999881 -1.9999881 -1.9999881 -1.9999881 -2.4999876]\n",
      " [ 0.         0.         0.         0.         0.       ]\n",
      " [ 0.         0.         0.         0.         0.       ]\n",
      " [-1.9937557 -1.9936817 -1.9938339 -2.4937963 -1.9937419]\n",
      " [-1.9921502 -1.9921608 -1.9922653 -1.9921577 -2.492127 ]\n",
      " [-1.9999881 -1.9999881 -1.9999881 -2.4999876 -1.9999881]\n",
      " [-1.9999881 -1.9999881 -1.9999881 -1.9999881 -2.4999876]\n",
      " [ 0.         0.         0.         0.         0.       ]\n",
      " [ 0.         0.         0.         0.         0.       ]\n",
      " [ 0.         0.         0.         0.         0.       ]\n",
      " [-1.9999754 -1.9999756 -1.9999752 -2.2787209 -2.20132  ]\n",
      " [ 0.         0.         0.         0.         0.       ]\n",
      " [-1.9999881 -1.9999881 -1.9999881 -2.4999876 -1.9999881]\n",
      " [-1.9999881 -2.2065818 -2.3028579 -1.9999881 -1.9999881]\n",
      " [-1.9999881 -2.4999876 -2.4999876 -1.9999881 -1.9999881]\n",
      " [-1.9999881 -2.4999876 -2.4999876 -1.9999881 -1.9999881]\n",
      " [-1.9937505 -1.9938141 -1.9938374 -1.9937158 -1.9938595]\n",
      " [-1.9841797 -1.9843472 -1.9840857 -1.9842305 -2.4841743]\n",
      " [-1.9999881 -1.9999881 -1.9999881 -2.4999876 -1.9999881]\n",
      " [-1.9999881 -1.9999881 -1.9999881 -1.9999881 -2.4999876]\n",
      " [ 0.         0.         0.         0.         0.       ]\n",
      " [ 0.         0.         0.         0.         0.       ]\n",
      " [-1.9595374 -1.9589171 -1.9596499 -2.459384  -1.9597826]\n",
      " [-1.9458838 -1.9460603 -1.9453744 -1.9459113 -2.4460618]\n",
      " [ 0.         0.         0.         0.         0.       ]\n",
      " [-1.9999881 -1.9999881 -1.9999881 -2.184118  -2.2585173]\n",
      " [ 0.         0.         0.         0.         0.       ]\n",
      " [ 0.         0.         0.         0.         0.       ]\n",
      " [ 0.         0.         0.         0.         0.       ]\n",
      " [-1.7937135 -1.7939498 -1.7948556 -2.2917864 -1.793591 ]\n",
      " [15.534255  16.516916  15.5387    15.544843  15.040264 ]\n",
      " [-1.9999881 -2.4999876 -1.9999881 -2.4999876 -1.9999881]\n",
      " [-1.9999881 -2.4999876 -1.9999881 -1.9999881 -2.4999876]\n",
      " [ 0.         0.         0.         0.         0.       ]\n",
      " [ 0.         0.         0.         0.         0.       ]\n",
      " [12.894812  12.360206  12.918866  12.40379   13.89719  ]\n",
      " [ 0.         0.         0.         0.         0.       ]\n",
      " [ 0.         0.         0.         0.         0.       ]\n",
      " [ 0.         0.         0.         0.         0.       ]\n",
      " [ 0.         0.         0.         0.         0.       ]\n",
      " [ 0.         0.         0.         0.         0.       ]\n",
      " [ 0.         0.         0.         0.         0.       ]\n",
      " [ 0.         0.         0.         0.         0.       ]\n",
      " [ 0.         0.         0.         0.         0.       ]\n",
      " [ 0.         0.         0.         0.         0.       ]\n",
      " [ 0.         0.         0.         0.         0.       ]\n",
      " [ 0.         0.         0.         0.         0.       ]\n",
      " [ 0.         0.         0.         0.         0.       ]\n",
      " [ 0.         0.         0.         0.         0.       ]\n",
      " [ 0.         0.         0.         0.         0.       ]]\n",
      "###### TEST #####\n",
      "episodes      : 100\n",
      "agent 1 total reward  : 0.0\n",
      "agent 1 average reward: 0.00\n",
      "agent 2 total reward  : 0.0\n",
      "agent 2 average reward: 0.00\n"
     ]
    }
   ],
   "source": [
    "# Q learning params\n",
    "ALPHA = 0.1 # learning rate\n",
    "GAMMA = 0.95 # reward discount\n",
    "LEARNING_COUNT = 1000\n",
    "TEST_COUNT = 100\n",
    "\n",
    "TURN_LIMIT = 1000\n",
    "IS_MONITOR = True\n",
    "\n",
    "class Agent:\n",
    "    def __init__(self, env, idx):\n",
    "        self.env = env\n",
    "        self.episode_reward = 0.0\n",
    "        self.q_val = np.zeros(64 * 5).reshape(64, 5).astype(np.float32)\n",
    "        self.idx = idx\n",
    "\n",
    "    def learn(self):\n",
    "        # one episode learning\n",
    "        state = self.env.reset()\n",
    "        #self.env.render()\n",
    "        \n",
    "        for t in range(TURN_LIMIT):\n",
    "            act = self.env.action_space.sample() # random\n",
    "            next_state, reward, done, info = self.env.step(act, self.idx)\n",
    "            assert len(next_state) == 6\n",
    "            coords = state[self.idx * 3]\n",
    "            q_next_max = np.max(self.q_val[int(64.*(coords+1.)/2.)])\n",
    "            # Q <- Q + a(Q' - Q)\n",
    "            # <=> Q <- (1-a)Q + a(Q')\n",
    "            self.q_val[int(64.*(coords+1.)/2.)][act] = (1 - ALPHA) * self.q_val[int(64.*(coords+1.)/2.)][act]\\\n",
    "                                 + ALPHA * (reward + GAMMA * q_next_max)\n",
    "            \n",
    "            self.episode_reward += reward\n",
    "            #self.env.render()\n",
    "            if done:\n",
    "                return self.env.episode_total_reward\n",
    "            else:\n",
    "                state = next_state\n",
    "                \n",
    "        return 0.0 # over limit\n",
    "\n",
    "    def test(self):\n",
    "        state = self.env.reset()\n",
    "        for t in range(TURN_LIMIT):\n",
    "            norm_coords = state[self.idx * 3]\n",
    "            act = np.argmax(self.q_val[int(64.*(norm_coords+1.)/2.)])\n",
    "            next_state, reward, done, info = self.env.step(act, self.idx)\n",
    "            if done:\n",
    "                return self.env.episode_total_reward\n",
    "            else:\n",
    "                state = next_state\n",
    "        return 0.0 # over limit\n",
    "\n",
    "env = GridworldEnv('')\n",
    "env.reset()\n",
    "agent1 = Agent(env, 0)\n",
    "agent2 = Agent(env, 1)\n",
    "\n",
    "print(\"###### LEARNING #####\")\n",
    "reward_total_1 = 0.0\n",
    "reward_total_2 = 0.0\n",
    "for i in range(LEARNING_COUNT):\n",
    "    reward_total_1 += agent1.learn()\n",
    "    reward_total_2 += agent2.learn()\n",
    "print(\"episodes      : {}\".format(LEARNING_COUNT))\n",
    "print(\"agent 1 total reward  : {}\".format(reward_total_1))\n",
    "print(\"agent 1 average reward: {:.2f}\".format(reward_total_1 / LEARNING_COUNT))\n",
    "print(\"agent 1 Q Value       :{}\".format(agent1.q_val))\n",
    "print(\"agent 2 total reward  : {}\".format(reward_total_2))\n",
    "print(\"agent 2 average reward: {:.2f}\".format(reward_total_2 / LEARNING_COUNT))\n",
    "print(\"agent 2 Q Value       :{}\".format(agent2.q_val))\n",
    "\n",
    "print(\"###### TEST #####\")\n",
    "reward_total_1 = 0.0\n",
    "reward_total_2 = 0.0\n",
    "for i in range(TEST_COUNT):\n",
    "    reward_total_1 += agent1.test()\n",
    "    reward_total_2 += agent2.test()\n",
    "print(\"episodes      : {}\".format(TEST_COUNT))\n",
    "print(\"agent 1 total reward  : {}\".format(reward_total_1))\n",
    "print(\"agent 1 average reward: {:.2f}\".format(reward_total_1 / TEST_COUNT))\n",
    "print(\"agent 2 total reward  : {}\".format(reward_total_2))\n",
    "print(\"agent 2 average reward: {:.2f}\".format(reward_total_2 / TEST_COUNT))\n",
    "\n"
   ]
  },
  {
   "cell_type": "code",
   "execution_count": 12,
   "metadata": {},
   "outputs": [],
   "source": [
    "Q_a1 = agent1.q_val \n",
    "policy_function1 = np.argmax( Q_a1 , axis = 1).reshape(8,8)\n",
    "\n",
    "Q_a2 = agent2.q_val \n",
    "policy_function2 = np.argmax( Q_a2 , axis = 1).reshape(8,8)"
   ]
  },
  {
   "cell_type": "code",
   "execution_count": 13,
   "metadata": {},
   "outputs": [
    {
     "data": {
      "image/png": "[encoded data removed]",
      "text/plain": [
       "<Figure size 640x480 with 2 Axes>"
      ]
     },
     "metadata": {},
     "output_type": "display_data"
    },
    {
     "data": {
      "image/png": "[encoded data removed]",
      "text/plain": [
       "<Figure size 640x480 with 2 Axes>"
      ]
     },
     "metadata": {},
     "output_type": "display_data"
    }
   ],
   "source": [
    "def plot_policy( policy_function ):\n",
    "\n",
    "    plt.figure()\n",
    "    plt.imshow( policy_function , interpolation='none' )\n",
    "    plt.colorbar()\n",
    "\n",
    "    for row in range( policy_function.shape[0] ):\n",
    "        for col in range( policy_function.shape[1] ):\n",
    "            if policy_function[row][col] == 0:\n",
    "                continue \n",
    "            if policy_function[row][col] == 1:\n",
    "                dx = 0; dy = .5\n",
    "            if policy_function[row][col] == 2:\n",
    "                dx = 0; dy = -.5\n",
    "            if policy_function[row][col] == 3:\n",
    "                dx = -.5; dy = 0\n",
    "            if policy_function[row][col] == 4:\n",
    "                dx = .5; dy = 0\n",
    "            plt.arrow( col , row , dx , dy , shape='full', fc='w' , ec='w' , lw=3, length_includes_head=True, head_width=.2 )\n",
    "    plt.title( 'Policy' )        \n",
    "    plt.show() \n",
    "plot_policy(policy_function1)\n",
    "plot_policy(policy_function2)"
   ]
  },
  {
   "cell_type": "code",
   "execution_count": 14,
   "metadata": {},
   "outputs": [
    {
     "data": {
      "image/png": "[encoded data removed]",
      "text/plain": [
       "<Figure size 640x480 with 1 Axes>"
      ]
     },
     "metadata": {},
     "output_type": "display_data"
    }
   ],
   "source": [
    "env.reset()\n",
    "env.render()"
   ]
  },
  {
   "cell_type": "code",
   "execution_count": null,
   "metadata": {
    "collapsed": true,
    "jupyter": {
     "outputs_hidden": true
    }
   },
   "outputs": [],
   "source": []
  }
 ],
 "metadata": {
  "kernelspec": {
   "display_name": "Python 3 (ipykernel)",
   "language": "python",
   "name": "python3"
  },
  "language_info": {
   "codemirror_mode": {
    "name": "ipython",
    "version": 3
   },
   "file_extension": ".py",
   "mimetype": "text/x-python",
   "name": "python",
   "nbconvert_exporter": "python",
   "pygments_lexer": "ipython3",
   "version": "3.9.18"
  }
 },
 "nbformat": 4,
 "nbformat_minor": 4
}
